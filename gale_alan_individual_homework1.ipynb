{
 "cells": [
  {
   "cell_type": "code",
   "execution_count": 142,
   "id": "fceab362",
   "metadata": {},
   "outputs": [],
   "source": [
    "import gale_alan_individual_homework1 as ih1\n",
    "\n",
    "import math\n",
    "import numpy as np\n"
   ]
  },
  {
   "cell_type": "markdown",
   "id": "591fad16",
   "metadata": {},
   "source": [
    "# Individual Homework 1 for Alan Gale"
   ]
  },
  {
   "cell_type": "markdown",
   "id": "6e4e45d8",
   "metadata": {},
   "source": [
    "## Part 1: Estimating Pi\n",
    "Estimate $\\int_{0}^{1}$ $\\frac{1}{1 + x^2}$ dx using a Monte Carlo simulation. <br> Note that this result can be found in closed form by trigonometric substitution which will be used to evaluate the accuracy of our result. <br> \n",
    "\n",
    "Using x = $\\tan\\theta$, ${dx = sec^2\\theta  d\\theta}$, and ${1 + x^2}$ = ${1 + tan^2\\theta}$ = ${sec^2\\theta}$. At x = 0, $\\theta$ = 0. <br> At x = 1, $\\theta = \\frac{\\pi}{4}$. <br> Rewriting the integral, $\\int_{0}^{1}$ $\\frac{1}{1 + x^2}$ dx = $\\int_{0}^{\\frac{\\pi}{4}}$ $\\frac{\\sec^2}{\\sec^2}$ $d\\theta$ = $\\int_{0}^{\\frac{\\pi}{4}}$ $d\\theta$ = $\\frac{\\pi}{4}$. The value of ${\\pi}$ can then be estimated by multipying our result by 4.<br> \n",
    "\n",
    "First, we determine the range of values for y given the range of values for x. At x = 0, y = 1. At x = 1, y = 1/2. Thus the boundaries for our random values are x from [0, 1], and y from [0, 1]. <br> \n",
    "Second, we will generate random values of (x, y) coordinates over their respective ranges, and estimate the area under the curve $\\frac{1}{1 + x^2}$ by the ratio of the number of y values less than $\\frac{1}{1 + x^2}$ divided by total number of generated (x, y) value pairs."
   ]
  },
  {
   "cell_type": "code",
   "execution_count": 143,
   "id": "da324c03",
   "metadata": {},
   "outputs": [
    {
     "name": "stdout",
     "output_type": "stream",
     "text": [
      "The estimate of pi is 3.14796 for 100000 number of points\n"
     ]
    }
   ],
   "source": [
    "#Run part 1 with some data\n",
    "\n",
    "n_points = 100000\n",
    "estimated_pi_result = estimate_pi(n_points)\n",
    "print(f\"The estimate of pi is {estimated_pi_result} for {n_points} number of points\") "
   ]
  },
  {
   "cell_type": "markdown",
   "id": "679450f0",
   "metadata": {},
   "source": [
    "## Part 2: Estimating Second Integrand\n",
    "Estimate $\\int_{0}^{1}$ $\\frac{10}{1 + 100x^2}$ dx using a Monte Carlo simulation. <br> Note that this result can be found in closed form by trigonometric substitution which will be used to evaluate the accuracy of our result. <br> \n",
    "Using x = \\frac($\\tan\\theta$}{10}, ${dx = \\frac{sec^2\\theta}{10}  d\\theta}$, and ${1 + 100x^2}$ = ${1 + tan^2\\theta}$ = ${sec^2\\theta}$. At x = 0, $\\theta$ = 0. <br> At x = 1, $\\theta$ = $\\operatorname{atan}(10)$ = ~1.47. <br> Rewriting the integral, $\\int_{0}^{1}$ $\\frac{10}{1 + 100x^2}$ dx = $\\int_{0}^{1.47}$ $\\frac{10\\sec^2}{\\sec^2}$ $10d\\theta$ = $\\int_{0}^{1.47}$ $d\\theta$ ~= 1.4711. \n",
    "\n",
    "First, we determine the range of values for y given the range of values for x. At x = 0, y = 10. At x = 1, y = 10/101. Thus the boundaries for our random values are x from [0, 1], and y from [0, 10], except from experimentation, our results did not converge with this high peak. Instead we ran the same intgral with 1 in the numberator instead of 10, and then multiplied our final result by 10. <br> \n",
    "Second, we will generate random values of (x, y) coordinates over their respective ranges, and estimate the area under the curve $\\frac{1}{1 + 100x^2}$ by the ratio of the number of y values less than $\\frac{1}{1 + 100x^2}$ divided by total number of generated (x, y) value pairs, then muliplied the final result by 10."
   ]
  },
  {
   "cell_type": "code",
   "execution_count": 144,
   "id": "6334889e",
   "metadata": {},
   "outputs": [
    {
     "name": "stdout",
     "output_type": "stream",
     "text": [
      "The estimate of the second integral is 1.472 for 10000 number of points\n"
     ]
    }
   ],
   "source": [
    "#Run part 2 with some data\n",
    "\n",
    "n_points = 10000\n",
    "estimated_integral_result = estimate_second_integral(n_points)\n",
    "print(f\"The estimate of the second integral is {estimated_integral_result} for {n_points} number of points\") "
   ]
  },
  {
   "cell_type": "code",
   "execution_count": null,
   "id": "998f2714",
   "metadata": {},
   "outputs": [],
   "source": [
    "\"\"\" \n",
    " I'M LEAVING THESE FUNCTIONS HERE FOR THE TIME BEING BECAUSE I'M NOT COMFORTABLE YET IN RUNNING THESE THROUGH A .PY FILE IMPORT\n",
    "NORMALLY THEY WOULD BE REMOVED\n",
    "\n",
    "#Initialize variables\n",
    "np.random.seed(1)          #Create random seed\n",
    "\n",
    "\n",
    "def estimate_pi(num_points):\n",
    "\n",
    "    Estimate pi using Monte Carlo simulation of the integral from 0 to 1 of 1/(1 + x^2) dx.\n",
    "\n",
    "    Parameters\n",
    "    ----------\n",
    "    num_points: int\n",
    "        The number of points used in the simulation.\n",
    "\n",
    "    Returns\n",
    "    -------\n",
    "    pi_estimate: float\n",
    "        Estimate of pi.\n",
    "  \n",
    "\n",
    "#Define range of x and y random values based on integration limits of x, and y = f(x)\n",
    "x_values = np.random.uniform(0, 1, num_points)     #Generate a numpy array of random values for x coordinates\n",
    "y_values = np.random.uniform(0, 1, num_points)     #Generate a numpy array of random values for y coordinates\n",
    "\n",
    "#print(f\"The x values are {x_values}\")     #For troubleshooting\n",
    "#print(f\"The y values are {y_values}\")     #For troubleshooting\n",
    "\n",
    "#Compare y_values against y_threshold = f(x_values)\n",
    "y_threshold = 1 / (1 + np.power(x_values, 2)) # The values of y according to the function\n",
    "y_comparison = y_values < y_threshold\n",
    "#print(f\"The y threshold values for the given x_values are {y_threshold}\")\n",
    "#print(f\"The comparison of y_values to y_threshold values for the given x_values are {y_comparison}\")\n",
    "\n",
    "\n",
    "count = np.sum(y_comparison)\n",
    "#print(f\"The count of y_values under y_threshold is {count}\")\n",
    "\n",
    "#Test with some assert statements\n",
    "assert np.all(x_values <= 1.0) and np.all(x_values >= 0.0)\n",
    "assert np.all(y_values <= 1.0) and np.all(y_values >= 0.0)\n",
    "assert np.all(count <= num_points) and np.all(count >= 0.0)\n",
    "\n",
    "#Calculate estimate\n",
    "pi_estimate = (count/num_points) * 4\n",
    "\n",
    "#Test result is within 10% of truth\n",
    "assert math.isclose(pi_estimate, math.acos(-1), abs_tol = math.acos(-1)/10) \n",
    "\n",
    "\n",
    "return pi_estimate\n",
    "\"\"\""
   ]
  },
  {
   "cell_type": "code",
   "execution_count": null,
   "id": "5221227f",
   "metadata": {},
   "outputs": [],
   "source": [
    "\n",
    "\"\"\"\n",
    " I'M LEAVING THESE FUNCTIONS HERE FOR THE TIME BEING BECAUSE I'M NOT COMFORTABLE YET IN RUNNING THESE THROUGH A .PY FILE IMPORT\n",
    "NORMALLY THEY WOULD BE REMOVED\n",
    "\n",
    "\n",
    "def estimate_second_integral(num_points):\n",
    "    \n",
    "    Estimate the second integral using Monte Carlo simulation of the integral from 0 to 1 of 10/(1 + 100*x^2) dx.\n",
    "\n",
    "    Parameters\n",
    "    ----------\n",
    "    num_points: int\n",
    "        The number of points used in the simulation.\n",
    "\n",
    "    Returns\n",
    "    -------\n",
    "    integral_estimate: float\n",
    "        Estimate of the integral.\n",
    "    \n",
    "\n",
    "    #Define range of x and y random values based on integration limits of x, and y = f(x)\n",
    "    #When x = 0, y = 10. When x = 1, y = 0.099. so use a range of x from [0, 1.0] and normally y from [0, 10.0] but from experimentation with a high peak, we instead\n",
    "    #ran y from [0.0, 1.0] and then multiplied the final result by 10.\n",
    "    x_values = np.random.uniform(0, 1, num_points)        #Generate a numpy array of random values for x coordinates\n",
    "    y_values = np.random.uniform(0, 1.0, num_points)     #Generate a numpy array of random values for y coordinates\n",
    "\n",
    "\n",
    "    #Compare y_values against y_threshold = f(x_values)\n",
    "    y_threshold = 1 / (1 + 100 * np.power(x_values, 2)) # The values of y according to the function\n",
    "    y_comparison = y_values < y_threshold\n",
    "\n",
    "    count = np.sum(y_comparison)\n",
    "    \n",
    "    #Test with some assert statements\n",
    "    assert np.all(x_values <= 1.0) and np.all(x_values >= 0.0)\n",
    "    assert np.all(y_values <= 1.0) and np.all(y_values >= 0.0)\n",
    "    assert np.all(count <= num_points) and np.all(count >= 0.0)\n",
    "\n",
    "    #Calculate estimate\n",
    "    integral_estimate = 10 * (count/num_points) # Multipy up the final result by 10 to account for the change in y range and y_threshold values described earlier\n",
    "\n",
    "    #Test result is within 10% of truth\n",
    "    #assert math.isclose(integral_estimate, 1.4711, abs_tol = 0.14711) \n",
    "    assert math.isclose(integral_estimate, math.atan(10), abs_tol = math.atan(10) / 10) \n",
    "\n",
    "    return integral_estimate\n",
    "\n",
    "\"\"\""
   ]
  }
 ],
 "metadata": {
  "kernelspec": {
   "display_name": "msse-python",
   "language": "python",
   "name": "python3"
  },
  "language_info": {
   "codemirror_mode": {
    "name": "ipython",
    "version": 3
   },
   "file_extension": ".py",
   "mimetype": "text/x-python",
   "name": "python",
   "nbconvert_exporter": "python",
   "pygments_lexer": "ipython3",
   "version": "3.11.13"
  }
 },
 "nbformat": 4,
 "nbformat_minor": 5
}
