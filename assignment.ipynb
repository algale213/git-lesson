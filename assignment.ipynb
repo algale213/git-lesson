{
 "cells": [
  {
   "cell_type": "markdown",
   "id": "d4a3a5ca",
   "metadata": {},
   "source": [
    "# Individual Homework 1 for Alan Gale\n",
    "This is the Jupyter notebook for the Individual Homework Assignment # 1 for Alan Gale. <br>\n",
    "It uses the assignment.py file containing the functions and the basic information to run the functions."
   ]
  },
  {
   "cell_type": "code",
   "execution_count": 1,
   "id": "f8a4cc91",
   "metadata": {},
   "outputs": [],
   "source": [
    "# Import the assignment.py file containing the functions for both parts of the assignment\n",
    "import assignment as a1\n",
    "\n",
    "# Import needed libraries\n",
    "import math\n",
    "import numpy as np"
   ]
  },
  {
   "cell_type": "markdown",
   "id": "1e0fbc9f",
   "metadata": {},
   "source": [
    "## Part 1: Estimating Pi\n",
    "Estimate $\\int_{0}^{1}$ $\\frac{1}{1 + x^2}$ dx using a Monte Carlo simulation. <br> Note that the result of this integral can be found in closed form by trigonometric substitution which will be used to evaluate the accuracy of our result. <br> \n",
    "\n",
    "Using x = $\\tan\\theta$, ${dx = sec^2\\theta  d\\theta}$, and ${1 + x^2}$ = ${1 + tan^2\\theta}$ = ${sec^2\\theta}$. At x = 0, $\\theta$ = 0. <br> At x = 1, $\\theta = \\frac{\\pi}{4}$. <br> Rewriting the integral, $\\int_{0}^{1}$ $\\frac{1}{1 + x^2}$ dx = $\\int_{0}^{\\frac{\\pi}{4}}$ $\\frac{\\sec^2}{\\sec^2}$ $d\\theta$ = $\\int_{0}^{\\frac{\\pi}{4}}$ $d\\theta$ = $\\frac{\\pi}{4}$. \n",
    "\n",
    "First, I determined the range of values for y given the range of values for x. At x = 0, y = 1. At x = 1, y = 1/2. Thus the boundaries for our random values are x from [0, 1], and y from [0, 1]. <br> \n",
    "Second, I generated random values of (x, y) coordinates over their respective ranges, and estimated the area under the curve $\\frac{1}{1 + x^2}$ by the ratio of the number of y values less than $\\frac{1}{1 + x^2}$ divided by total number of generated (x, y) value pairs. Since the test space has an area of x_range * y_range = (1)(1) = 1, there is no test area scale factor needed to apply to the final result estimating ${\\frac{\\pi}{4}}$.  The value of ${\\pi}$ can then be estimated by multipying our result by 4.<br> "
   ]
  },
  {
   "cell_type": "code",
   "execution_count": 6,
   "id": "847e3ea9",
   "metadata": {},
   "outputs": [
    {
     "name": "stdout",
     "output_type": "stream",
     "text": [
      "The estimate of pi is 3.13876 for 100000 number of points yielding an error of 0.09016616417651546%\n"
     ]
    }
   ],
   "source": [
    "#Run part 1 with some data\n",
    "\n",
    "n_points = 100000\n",
    "estimated_pi_result = a1.estimate_pi(n_points)\n",
    "error_percent_pi = 100*(math.acos(-1) - estimated_pi_result) / math.acos(-1)\n",
    "print(f\"The estimate of pi is {estimated_pi_result} for {n_points} number of points yielding an error of {error_percent_pi}%\") "
   ]
  },
  {
   "cell_type": "markdown",
   "id": "b6a6dcbf",
   "metadata": {},
   "source": [
    "## Part 2: Estimating Second Integral\n",
    "Estimate $\\int_{0}^{1}$ $\\frac{10}{1 + 100x^2}$ dx using a Monte Carlo simulation. <br> Note that this result can be found in closed form by trigonometric substitution which will be used to evaluate the accuracy of our result. <br> \n",
    "Using x = $\\frac{\\tan(\\theta)}{10}$, ${dx = \\frac{sec^2\\theta}{10}  d\\theta}$, yielding ${1 + 100x^2}$ = ${1 + tan^2\\theta}$ = ${sec^2\\theta}$. <br>At x = 0, $\\theta$ = 0. At x = 1, $\\theta$ = $\\operatorname{atan}(10)$ = ~1.4711. <br> Rewriting the integral, $\\int_{0}^{1}$ $\\frac{10}{1 + 100x^2}$ dx = $\\int_{0}^{{atan}(10)}$ $\\frac{\\sec^2}{\\sec^2}$ $d\\theta$ = $\\int_{0}^{{atan}(10)}$ $d\\theta$ = ${atan}(10)$ - 0 = ${atan}(10)$ ~= 1.4711. \n",
    "\n",
    "First, I determined the range of values for y given the range of values for x. At x = 0, y = 10. At x = 1, y = 10/101. Thus the boundaries for our random values are x from [0, 1], and y from [0, 10]. <br> \n",
    "Second, I generated random values of (x, y) coordinates over their respective ranges, and estimated the area under the curve $\\frac{10}{1 + 100x^2}$ by the ratio of the number of y values less than $\\frac{10}{1 + 100x^2}$ divided by total number of generated (x, y) value pairs.  Since the test space has an area of x_range * y_range = (1)(10) = 10, I multiplied a test area scale factor of 10 to the preliminary result yielding the final estimate of the area under the curve. "
   ]
  },
  {
   "cell_type": "code",
   "execution_count": 8,
   "id": "11694cf0",
   "metadata": {},
   "outputs": [
    {
     "name": "stdout",
     "output_type": "stream",
     "text": [
      "The estimate of the second integral is 1.4791 for 100000 number of points yielding an error of -0.5419193612844514%\n"
     ]
    }
   ],
   "source": [
    "#Run part 2 with some data\n",
    "\n",
    "n_points = 100000\n",
    "estimated_integral_result = a1.estimate_second_integral(n_points)\n",
    "error_percent_2nd_integral = 100*(math.atan(10) - estimated_integral_result) / math.atan(10)\n",
    "print(f\"The estimate of the second integral is {estimated_integral_result} for {n_points} number of points yielding an error of {error_percent_2nd_integral}%\") "
   ]
  }
 ],
 "metadata": {
  "kernelspec": {
   "display_name": "msse-python",
   "language": "python",
   "name": "python3"
  },
  "language_info": {
   "codemirror_mode": {
    "name": "ipython",
    "version": 3
   },
   "file_extension": ".py",
   "mimetype": "text/x-python",
   "name": "python",
   "nbconvert_exporter": "python",
   "pygments_lexer": "ipython3",
   "version": "3.11.13"
  }
 },
 "nbformat": 4,
 "nbformat_minor": 5
}
